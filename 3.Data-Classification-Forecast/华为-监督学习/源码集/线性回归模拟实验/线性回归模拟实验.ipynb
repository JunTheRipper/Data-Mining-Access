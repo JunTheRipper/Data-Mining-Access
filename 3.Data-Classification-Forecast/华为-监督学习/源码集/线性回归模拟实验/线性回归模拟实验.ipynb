{
 "cells": [
  {
   "cell_type": "markdown",
   "metadata": {},
   "source": [
    "# 线性回归\n",
    "\n",
    "## 实验介绍\n",
    "\n",
    "线性回归（Linear Regression）是机器学习最经典的算法之一，具有如下特点：\n",
    "\n",
    "- 自变量服从正态分布；\n",
    "- 因变量是连续性数值变量；\n",
    "- 自变量和因变量程线性关系。\n",
    "\n",
    "本实验主要介绍使用MindSpore在模拟数据上进行线性回归实验，分析自变量和因变量之间的线性关系，即求得一个线性函数。\n",
    "\n",
    "## 实验目的\n",
    "\n",
    "- 了解线性回归的基本概念和问题模拟；\n",
    "- 了解如何使用MindSpore进行线性回归实验。\n",
    "\n",
    "## 预备知识\n",
    "\n",
    "- 熟练使用Python。\n",
    "- 具备一定的机器学习理论知识，如线性回归、损失函数、优化器，训练策略等。\n",
    "- 了解华为云的基本使用方法，包括[ModelArts（AI开发平台）](https://www.huaweicloud.com/product/modelarts.html)、[训练作业](https://support.huaweicloud.com/engineers-modelarts/modelarts_23_0238.html)等功能。华为云官网：https://www.huaweicloud.com\n",
    "- 了解并熟悉MindSpore AI计算框架，MindSpore官网：https://www.mindspore.cn/\n",
    "\n",
    "## 实验环境\n",
    "\n",
    "- MindSpore 0.5.0（MindSpore版本会定期更新，本指导也会定期刷新，与版本配套）；\n",
    "- 华为云ModelArts（控制台左上角选择“华北-北京四”）：ModelArts是华为云提供的面向开发者的一站式AI开发平台，集成了昇腾AI处理器资源池，用户可以在该平台下体验MindSpore。"
   ]
  },
  {
   "cell_type": "markdown",
   "metadata": {},
   "source": [
    "## 实验步骤\n",
    "\n",
    "### 步骤1 导入MindSpore模块和辅助模块"
   ]
  },
  {
   "cell_type": "code",
   "execution_count": 1,
   "metadata": {},
   "outputs": [],
   "source": [
    "import os\n",
    "# os.environ['DEVICE_ID'] = '0'\n",
    "import numpy as np\n",
    "\n",
    "import mindspore as ms\n",
    "from mindspore import nn\n",
    "from mindspore import context\n",
    "\n",
    "context.set_context(mode=context.GRAPH_MODE, device_target=\"Ascend\")"
   ]
  },
  {
   "cell_type": "markdown",
   "metadata": {},
   "source": [
    "### 步骤二 生成模拟数据\n",
    "根据以下线性函数生成模拟数据，并在其中加入少许扰动。\n",
    "\n",
    "$$y = -5 * x + 0.1$$"
   ]
  },
  {
   "cell_type": "code",
   "execution_count": 2,
   "metadata": {},
   "outputs": [],
   "source": [
    "x = np.arange(-5, 5, 0.3)[:32].reshape((32, 1))\n",
    "y = -5 * x +  0.1 * np.random.normal(loc=0.0, scale=20.0, size=x.shape)"
   ]
  },
  {
   "cell_type": "markdown",
   "metadata": {},
   "source": [
    "### 步骤三 建模\n",
    "使用MindSpore提供的[`nn.Dense(1, 1)`算子](https://www.mindspore.cn/api/zh-CN/0.2.0-alpha/api/python/mindspore/mindspore.nn.html#mindspore.nn.Dense)作为线性模型，其中`(1, 1)`表示线性模型的输入和输出皆是1维，即$w$是1x1的矩阵。算子会随机初始化权重$w$和偏置$b$。\n",
    "\n",
    "$$y = w * x + b$$\n",
    "\n",
    "采用均方差（Mean Squared Error, MSE）作为损失函数。\n",
    "\n",
    "采用随机梯度下降（Stochastic Gradient Descent, SGD）对模型进行优化。"
   ]
  },
  {
   "cell_type": "code",
   "execution_count": 3,
   "metadata": {},
   "outputs": [],
   "source": [
    "net = nn.Dense(1, 1)\n",
    "loss_fn = nn.loss.MSELoss()\n",
    "opt = nn.optim.SGD(net.trainable_params(), learning_rate=0.01)\n",
    "with_loss = nn.WithLossCell(net, loss_fn)\n",
    "train_step = nn.TrainOneStepCell(with_loss, opt).set_train()"
   ]
  },
  {
   "cell_type": "markdown",
   "metadata": {},
   "source": [
    "### 步骤四 使用模拟数据对模型进行几代（Epoch）训练："
   ]
  },
  {
   "cell_type": "code",
   "execution_count": 4,
   "metadata": {},
   "outputs": [
    {
     "name": "stdout",
     "output_type": "stream",
     "text": [
      "epoch: 0, loss is 191.03662\n",
      "epoch: 1, loss is 137.56923\n",
      "epoch: 2, loss is 99.519455\n",
      "epoch: 3, loss is 72.41922\n",
      "epoch: 4, loss is 53.13565\n",
      "epoch: 5, loss is 39.367752\n",
      "epoch: 6, loss is 29.570751\n",
      "epoch: 7, loss is 22.636707\n",
      "epoch: 8, loss is 17.659052\n",
      "epoch: 9, loss is 14.094089\n",
      "epoch: 10, loss is 11.589828\n",
      "epoch: 11, loss is 9.775642\n",
      "epoch: 12, loss is 8.497474\n",
      "epoch: 13, loss is 7.5611076\n",
      "epoch: 14, loss is 6.9201765\n",
      "epoch: 15, loss is 6.452571\n",
      "epoch: 16, loss is 6.100116\n",
      "epoch: 17, loss is 5.856675\n",
      "epoch: 18, loss is 5.6804886\n",
      "epoch: 19, loss is 5.5560365\n"
     ]
    }
   ],
   "source": [
    "for epoch in range(20):\n",
    "    loss = train_step(ms.Tensor(x, ms.float32), ms.Tensor(y, ms.float32))\n",
    "    print('epoch: {0}, loss is {1}'.format(epoch, loss))"
   ]
  },
  {
   "cell_type": "markdown",
   "metadata": {},
   "source": [
    "### 步骤五 预测\n",
    "训练一定的代数后，得到的模型已经十分接近真实的线性函数了。"
   ]
  },
  {
   "cell_type": "code",
   "execution_count": 5,
   "metadata": {},
   "outputs": [
    {
     "name": "stdout",
     "output_type": "stream",
     "text": [
      "The true linear function is y = -5 * x + 0.1\n",
      "The trained linear model is y = -4.697922706604004 * x + -0.005672554485499859\n",
      "x = -10, predicted y = [[46.986515]]\n",
      "x = -5, predicted y = [[23.490421]]\n",
      "x = 0, predicted y = [[-0.00567255]]\n",
      "x = 5, predicted y = [[-23.501766]]\n",
      "x = 10, predicted y = [[-46.99786]]\n"
     ]
    }
   ],
   "source": [
    "wb = [x.default_input.asnumpy() for x in net.trainable_params()]\n",
    "w, b = np.squeeze(wb[0]), np.squeeze(wb[1])\n",
    "print('The true linear function is y = -5 * x + 0.1')\n",
    "# works in MindSpore0.3.0 or later.\n",
    "print('The trained linear model is y = {0} * x + {1}'.format(w, b))\n",
    "\n",
    "for i in range(-10, 11, 5):\n",
    "    print('x = {0}, predicted y = {1}'.format(i, net(ms.Tensor([[i]], ms.float32))))"
   ]
  },
  {
   "cell_type": "markdown",
   "metadata": {},
   "source": [
    "### 步骤六 可视化\n",
    "模拟的样本数据、真实的线性函数和训练得到的线性模型如下图所示："
   ]
  },
  {
   "cell_type": "code",
   "execution_count": 6,
   "metadata": {},
   "outputs": [
    {
     "data": {
      "text/plain": [
       "<matplotlib.legend.Legend at 0xffff30babc10>"
      ]
     },
     "execution_count": 6,
     "metadata": {},
     "output_type": "execute_result"
    },
    {
     "data": {
      "image/png": "[encoded data removed]",
      "text/plain": [
       "<Figure size 432x288 with 1 Axes>"
      ]
     },
     "metadata": {
      "needs_background": "light"
     },
     "output_type": "display_data"
    }
   ],
   "source": [
    "from matplotlib import pyplot as plt\n",
    "plt.scatter(x, y, label='Samples')\n",
    "plt.plot(x, w * x +  b, c='r', label='True function')\n",
    "plt.plot(x, -5 * x +  0.1, c='b', label='Trained model')\n",
    "plt.legend()\n"
   ]
  }
 ],
 "metadata": {
  "kernelspec": {
   "display_name": "MindSpore-0.5.0-python3.7-aarch64",
   "language": "python",
   "name": "mindspore-0.5.0"
  },
  "language_info": {
   "codemirror_mode": {
    "name": "ipython",
    "version": 3
   },
   "file_extension": ".py",
   "mimetype": "text/x-python",
   "name": "python",
   "nbconvert_exporter": "python",
   "pygments_lexer": "ipython3",
   "version": "3.7.6"
  }
 },
 "nbformat": 4,
 "nbformat_minor": 4
}
